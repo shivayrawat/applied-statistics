{
 "cells": [
  {
   "cell_type": "code",
   "execution_count": 39,
   "id": "9e96114a-041e-436b-b968-cb4719b98ae2",
   "metadata": {},
   "outputs": [
    {
     "name": "stdout",
     "output_type": "stream",
     "text": [
      "[[0 1 2 3 4]\n",
      " [5 6 7 8 9]]\n"
     ]
    }
   ],
   "source": [
    "import pandas as pd\n",
    "import numpy as np\n",
    "#creating a series of 10 elements \n",
    "series=np.arange(10)\n",
    "reshapedseries=series.reshape(2,5)\n",
    "print(reshapedseries)"
   ]
  },
  {
   "cell_type": "code",
   "execution_count": 45,
   "id": "3806e6b2-beec-4332-8e2b-49aa765874e4",
   "metadata": {},
   "outputs": [
    {
     "name": "stdout",
     "output_type": "stream",
     "text": [
      "['A' 'B' 'O' 'AB']\n"
     ]
    }
   ],
   "source": [
    "#identifying unique value in the blood group.\n",
    "blood=df['Blood Group'].unique()\n",
    "print(blood)"
   ]
  },
  {
   "cell_type": "code",
   "execution_count": 40,
   "id": "a4000802-e170-479c-b79e-8ac277641a01",
   "metadata": {},
   "outputs": [
    {
     "name": "stdout",
     "output_type": "stream",
     "text": [
      "      Name  ID  Height  Weight Blood Group Grade  Percentage\n",
      "0  shubham   1   165.0    60.0           A     A          85\n",
      "1  devansh   2   170.0    70.0           B     B          75\n",
      "2   suresh   3     NaN     NaN           O     C          65\n",
      "3  saurabh   4   180.0    90.0          AB     B          80\n",
      "4    uttam   5   160.0    55.0           A     A          90\n"
     ]
    }
   ],
   "source": [
    "import pandas as pd\n",
    "\n",
    "data = {\n",
    "    'Name': ['shubham', 'devansh', 'suresh', 'saurabh', 'uttam'],\n",
    "    'ID': [1, 2, 3, 4, 5],\n",
    "    'Height': [165, 170,None,180, 160],\n",
    "    'Weight': [60, 70,None, 90, 55],\n",
    "    'Blood Group': ['A', 'B', 'O', 'AB', 'A'],\n",
    "    'Grade': ['A', 'B', 'C', 'B', 'A'],\n",
    "    'Percentage': [85, 75, 65, 80, 90]\n",
    "}\n",
    "\n",
    "df = pd.DataFrame(data)\n",
    "print(df)\n"
   ]
  },
  {
   "cell_type": "code",
   "execution_count": 41,
   "id": "a799adf1-018a-400c-b1fa-4b2b29a339d9",
   "metadata": {},
   "outputs": [
    {
     "name": "stdout",
     "output_type": "stream",
     "text": [
      "(5, 7)\n"
     ]
    }
   ],
   "source": [
    "#display size of dataframe\n",
    "print(df.shape)"
   ]
  },
  {
   "cell_type": "code",
   "execution_count": 42,
   "id": "124532c1-f331-44c8-87e7-c75ab02525fa",
   "metadata": {},
   "outputs": [
    {
     "name": "stdout",
     "output_type": "stream",
     "text": [
      "      Name  ID  Height  Weight Blood Group Grade  Percentage\n",
      "0  shubham   1   165.0    60.0           A     A          85\n",
      "1  devansh   2   170.0    70.0           B     B          75\n",
      "2   suresh   3     NaN     NaN           O     C          65\n",
      "3  saurabh   4   180.0    90.0          AB     B          80\n",
      "4    uttam   5   160.0    55.0           A     A          90\n",
      "      Name  ID  Height  Weight Blood Group Grade  Percentage\n",
      "0  shubham   1   165.0    60.0           A     A          85\n",
      "1  devansh   2   170.0    70.0           B     B          75\n",
      "2   suresh   3     NaN     NaN           O     C          65\n",
      "3  saurabh   4   180.0    90.0          AB     B          80\n",
      "4    uttam   5   160.0    55.0           A     A          90\n"
     ]
    }
   ],
   "source": [
    "#display the starting rows head() \n",
    "print(df.head())\n",
    "#dislpalys the last rows tail()\n",
    "print(df.tail())"
   ]
  },
  {
   "cell_type": "code",
   "execution_count": 43,
   "id": "8d67d3f6-9b84-4bbc-b33d-13c5c59a3a6e",
   "metadata": {},
   "outputs": [
    {
     "name": "stdout",
     "output_type": "stream",
     "text": [
      "Name           0\n",
      "ID             0\n",
      "Height         1\n",
      "Weight         1\n",
      "Blood Group    0\n",
      "Grade          0\n",
      "Percentage     0\n",
      "dtype: int64\n"
     ]
    }
   ],
   "source": [
    "#checking for the missing values\n",
    "mis=df.isnull().sum()\n",
    "print(mis)"
   ]
  },
  {
   "cell_type": "code",
   "execution_count": 48,
   "id": "24984a0e-1b9c-475a-a31d-86985a8be024",
   "metadata": {},
   "outputs": [
    {
     "name": "stdout",
     "output_type": "stream",
     "text": [
      "   Height  Weight\n",
      "0   False   False\n",
      "1   False   False\n",
      "2    True    True\n",
      "3   False   False\n",
      "4   False   False\n"
     ]
    }
   ],
   "source": [
    "#count of the missing value in the hgt and wgt column\n",
    "missing=df[['Height','Weight']].isnull()\n",
    "print(missing)"
   ]
  },
  {
   "cell_type": "code",
   "execution_count": 45,
   "id": "01737cc4-df93-44a7-8f61-0860ac123b52",
   "metadata": {},
   "outputs": [
    {
     "name": "stdout",
     "output_type": "stream",
     "text": [
      "['A' 'B' 'O' 'AB']\n"
     ]
    }
   ],
   "source": [
    "#identifying unique value in the blood group.\n",
    "blood=df['Blood Group'].unique()\n",
    "print(blood)"
   ]
  },
  {
   "cell_type": "code",
   "execution_count": 46,
   "id": "67e6c8f0-46e1-4c46-84ab-a9bc080e1c86",
   "metadata": {},
   "outputs": [
    {
     "name": "stdout",
     "output_type": "stream",
     "text": [
      "0    shubham\n",
      "1    devansh\n",
      "2     suresh\n",
      "3    saurabh\n",
      "4      uttam\n",
      "Name: Name, dtype: object\n"
     ]
    }
   ],
   "source": [
    "student=df.loc[:,'Name']\n",
    "print(student)"
   ]
  },
  {
   "cell_type": "code",
   "execution_count": 47,
   "id": "62696a4a-dc8f-477a-aae3-e0c6aa9966a8",
   "metadata": {},
   "outputs": [
    {
     "name": "stdout",
     "output_type": "stream",
     "text": [
      "   Height  Weight Blood Group\n",
      "2     NaN     NaN           O\n",
      "3   180.0    90.0          AB\n",
      "4   160.0    55.0           A\n"
     ]
    }
   ],
   "source": [
    "s=df.iloc[2:7,2:5]\n",
    "print(s)"
   ]
  },
  {
   "cell_type": "code",
   "execution_count": null,
   "id": "29297f93-eaed-4217-bddc-5fd9ce8fa124",
   "metadata": {},
   "outputs": [],
   "source": []
  }
 ],
 "metadata": {
  "kernelspec": {
   "display_name": "Python 3 (ipykernel)",
   "language": "python",
   "name": "python3"
  },
  "language_info": {
   "codemirror_mode": {
    "name": "ipython",
    "version": 3
   },
   "file_extension": ".py",
   "mimetype": "text/x-python",
   "name": "python",
   "nbconvert_exporter": "python",
   "pygments_lexer": "ipython3",
   "version": "3.11.7"
  }
 },
 "nbformat": 4,
 "nbformat_minor": 5
}
